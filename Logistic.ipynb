{
 "cells": [
  {
   "cell_type": "code",
   "execution_count": 5,
   "metadata": {},
   "outputs": [],
   "source": [
    "# import sys\n",
    "# !{sys.executable} -m  pip install underthesea"
   ]
  },
  {
   "cell_type": "code",
   "execution_count": 6,
   "metadata": {},
   "outputs": [],
   "source": [
    "import pandas as pd\n",
    "import numpy as np\n",
    "import underthesea as ud\n",
    "import re\n",
    "import matplotlib.pyplot as plt\n",
    "import seaborn as sns"
   ]
  },
  {
   "cell_type": "code",
   "execution_count": 7,
   "metadata": {},
   "outputs": [],
   "source": [
    "df = pd.read_csv('final.csv', encoding = 'utf-8')"
   ]
  },
  {
   "cell_type": "code",
   "execution_count": 8,
   "metadata": {},
   "outputs": [],
   "source": [
    "#stopwords = pd.read_table('vietnamese-stopwords.txt', sep = '\\\\t', header = None, names = ['word'])\n",
    "#stopwords"
   ]
  },
  {
   "cell_type": "code",
   "execution_count": 9,
   "metadata": {},
   "outputs": [
    {
     "data": {
      "text/html": [
       "<div>\n",
       "<style scoped>\n",
       "    .dataframe tbody tr th:only-of-type {\n",
       "        vertical-align: middle;\n",
       "    }\n",
       "\n",
       "    .dataframe tbody tr th {\n",
       "        vertical-align: top;\n",
       "    }\n",
       "\n",
       "    .dataframe thead th {\n",
       "        text-align: right;\n",
       "    }\n",
       "</style>\n",
       "<table border=\"1\" class=\"dataframe\">\n",
       "  <thead>\n",
       "    <tr style=\"text-align: right;\">\n",
       "      <th></th>\n",
       "      <th>list_id</th>\n",
       "      <th>ad_id</th>\n",
       "      <th>subject</th>\n",
       "      <th>body</th>\n",
       "      <th>price</th>\n",
       "      <th>mc_brand_name</th>\n",
       "      <th>brand</th>\n",
       "      <th>mc_model_name</th>\n",
       "      <th>model</th>\n",
       "      <th>aa_date_time</th>\n",
       "      <th>sold_date</th>\n",
       "      <th>duration</th>\n",
       "      <th>lead</th>\n",
       "      <th>spending</th>\n",
       "      <th>regdate</th>\n",
       "      <th>mileage</th>\n",
       "      <th>region</th>\n",
       "      <th>mc_type</th>\n",
       "      <th>mc_capacity</th>\n",
       "    </tr>\n",
       "  </thead>\n",
       "  <tbody>\n",
       "    <tr>\n",
       "      <th>0</th>\n",
       "      <td>48871389</td>\n",
       "      <td>72344446</td>\n",
       "      <td>Cần bán xe HonDa Wave s 100</td>\n",
       "      <td>Cần bán xe HonDa Wave S 100. Xe do mình đứng t...</td>\n",
       "      <td>8700000</td>\n",
       "      <td>Honda</td>\n",
       "      <td>1</td>\n",
       "      <td>Wave</td>\n",
       "      <td>22</td>\n",
       "      <td>2018-08-01 07:04:05.8741</td>\n",
       "      <td>2018-08-01 18:22:20.82729</td>\n",
       "      <td>11</td>\n",
       "      <td>78</td>\n",
       "      <td>0</td>\n",
       "      <td>2008</td>\n",
       "      <td>NaN</td>\n",
       "      <td>2</td>\n",
       "      <td>2.0</td>\n",
       "      <td>2.0</td>\n",
       "    </tr>\n",
       "    <tr>\n",
       "      <th>1</th>\n",
       "      <td>48871466</td>\n",
       "      <td>72344805</td>\n",
       "      <td>Cần bán xe như hình còn đăng kí nhé</td>\n",
       "      <td>Có fix nhẹ cho anh em nhiệt tình muốn mua nhé</td>\n",
       "      <td>8000000</td>\n",
       "      <td>Honda</td>\n",
       "      <td>1</td>\n",
       "      <td>67</td>\n",
       "      <td>1</td>\n",
       "      <td>2018-08-01 07:05:37.217184</td>\n",
       "      <td>2018-09-22 11:32:55.767056</td>\n",
       "      <td>1252</td>\n",
       "      <td>37</td>\n",
       "      <td>0</td>\n",
       "      <td>1997</td>\n",
       "      <td>NaN</td>\n",
       "      <td>12</td>\n",
       "      <td>3.0</td>\n",
       "      <td>5.0</td>\n",
       "    </tr>\n",
       "    <tr>\n",
       "      <th>2</th>\n",
       "      <td>48871512</td>\n",
       "      <td>72345802</td>\n",
       "      <td>Future 125Fi 214 C.chủ Zin A.Z BSTP . Mới 95%</td>\n",
       "      <td>Lên đời  Cần ra đi e Future 125Fi 2014 Xe chạy...</td>\n",
       "      <td>19800000</td>\n",
       "      <td>Honda</td>\n",
       "      <td>1</td>\n",
       "      <td>Future</td>\n",
       "      <td>13</td>\n",
       "      <td>2018-08-01 07:06:54.144895</td>\n",
       "      <td>2018-08-02 11:36:03.65795</td>\n",
       "      <td>28</td>\n",
       "      <td>21</td>\n",
       "      <td>0</td>\n",
       "      <td>2014</td>\n",
       "      <td>NaN</td>\n",
       "      <td>13</td>\n",
       "      <td>2.0</td>\n",
       "      <td>3.0</td>\n",
       "    </tr>\n",
       "    <tr>\n",
       "      <th>3</th>\n",
       "      <td>48872556</td>\n",
       "      <td>72346345</td>\n",
       "      <td>Cần thanh lý em sirius</td>\n",
       "      <td>ai mua liên hệ giúp em nha ,sdt của em</td>\n",
       "      <td>8000000</td>\n",
       "      <td>Yamaha</td>\n",
       "      <td>2</td>\n",
       "      <td>Sirius</td>\n",
       "      <td>27</td>\n",
       "      <td>2018-08-01 07:34:41.045579</td>\n",
       "      <td>2018-08-01 23:19:27.53107</td>\n",
       "      <td>16</td>\n",
       "      <td>18</td>\n",
       "      <td>0</td>\n",
       "      <td>2007</td>\n",
       "      <td>NaN</td>\n",
       "      <td>13</td>\n",
       "      <td>2.0</td>\n",
       "      <td>NaN</td>\n",
       "    </tr>\n",
       "    <tr>\n",
       "      <th>4</th>\n",
       "      <td>48872805</td>\n",
       "      <td>72344763</td>\n",
       "      <td>Vespa Lx 125ie</td>\n",
       "      <td>Do nhu cầu đổi xe mới nên bán lại . Ai cần liê...</td>\n",
       "      <td>18500000</td>\n",
       "      <td>Piaggio</td>\n",
       "      <td>3</td>\n",
       "      <td>LX</td>\n",
       "      <td>79</td>\n",
       "      <td>2018-08-01 07:42:17.468578</td>\n",
       "      <td>2018-08-01 17:07:44.254137</td>\n",
       "      <td>10</td>\n",
       "      <td>9</td>\n",
       "      <td>0</td>\n",
       "      <td>2011</td>\n",
       "      <td>NaN</td>\n",
       "      <td>13</td>\n",
       "      <td>1.0</td>\n",
       "      <td>2.0</td>\n",
       "    </tr>\n",
       "  </tbody>\n",
       "</table>\n",
       "</div>"
      ],
      "text/plain": [
       "    list_id     ad_id                                        subject  \\\n",
       "0  48871389  72344446                    Cần bán xe HonDa Wave s 100   \n",
       "1  48871466  72344805            Cần bán xe như hình còn đăng kí nhé   \n",
       "2  48871512  72345802  Future 125Fi 214 C.chủ Zin A.Z BSTP . Mới 95%   \n",
       "3  48872556  72346345                         Cần thanh lý em sirius   \n",
       "4  48872805  72344763                                 Vespa Lx 125ie   \n",
       "\n",
       "                                                body     price mc_brand_name  \\\n",
       "0  Cần bán xe HonDa Wave S 100. Xe do mình đứng t...   8700000         Honda   \n",
       "1      Có fix nhẹ cho anh em nhiệt tình muốn mua nhé   8000000         Honda   \n",
       "2  Lên đời  Cần ra đi e Future 125Fi 2014 Xe chạy...  19800000         Honda   \n",
       "3             ai mua liên hệ giúp em nha ,sdt của em   8000000        Yamaha   \n",
       "4  Do nhu cầu đổi xe mới nên bán lại . Ai cần liê...  18500000       Piaggio   \n",
       "\n",
       "   brand mc_model_name  model                aa_date_time  \\\n",
       "0      1          Wave     22    2018-08-01 07:04:05.8741   \n",
       "1      1            67      1  2018-08-01 07:05:37.217184   \n",
       "2      1        Future     13  2018-08-01 07:06:54.144895   \n",
       "3      2        Sirius     27  2018-08-01 07:34:41.045579   \n",
       "4      3            LX     79  2018-08-01 07:42:17.468578   \n",
       "\n",
       "                    sold_date  duration  lead  spending  regdate  mileage  \\\n",
       "0   2018-08-01 18:22:20.82729        11    78         0     2008      NaN   \n",
       "1  2018-09-22 11:32:55.767056      1252    37         0     1997      NaN   \n",
       "2   2018-08-02 11:36:03.65795        28    21         0     2014      NaN   \n",
       "3   2018-08-01 23:19:27.53107        16    18         0     2007      NaN   \n",
       "4  2018-08-01 17:07:44.254137        10     9         0     2011      NaN   \n",
       "\n",
       "   region  mc_type  mc_capacity  \n",
       "0       2      2.0          2.0  \n",
       "1      12      3.0          5.0  \n",
       "2      13      2.0          3.0  \n",
       "3      13      2.0          NaN  \n",
       "4      13      1.0          2.0  "
      ]
     },
     "execution_count": 9,
     "metadata": {},
     "output_type": "execute_result"
    }
   ],
   "source": [
    "df.head()"
   ]
  },
  {
   "cell_type": "code",
   "execution_count": 10,
   "metadata": {},
   "outputs": [
    {
     "name": "stdout",
     "output_type": "stream",
     "text": [
      "<class 'pandas.core.frame.DataFrame'>\n",
      "RangeIndex: 50724 entries, 0 to 50723\n",
      "Data columns (total 19 columns):\n",
      "list_id          50724 non-null int64\n",
      "ad_id            50724 non-null int64\n",
      "subject          50724 non-null object\n",
      "body             50721 non-null object\n",
      "price            50724 non-null int64\n",
      "mc_brand_name    50689 non-null object\n",
      "brand            50724 non-null int64\n",
      "mc_model_name    50362 non-null object\n",
      "model            50724 non-null int64\n",
      "aa_date_time     50724 non-null object\n",
      "sold_date        50724 non-null object\n",
      "duration         50724 non-null int64\n",
      "lead             50724 non-null int64\n",
      "spending         50724 non-null int64\n",
      "regdate          50724 non-null int64\n",
      "mileage          42458 non-null float64\n",
      "region           50724 non-null int64\n",
      "mc_type          50722 non-null float64\n",
      "mc_capacity      44227 non-null float64\n",
      "dtypes: float64(3), int64(10), object(6)\n",
      "memory usage: 7.4+ MB\n"
     ]
    }
   ],
   "source": [
    "df.info()"
   ]
  },
  {
   "cell_type": "code",
   "execution_count": 11,
   "metadata": {},
   "outputs": [],
   "source": [
    "#Chuyen gia tri null cua bien dung tich xi lanh = 6\n",
    "df['mc_capacity'] = df['mc_capacity'].fillna(value = 6).reset_index(drop = True)\n",
    "#Bo cac ad co lead tu 50 tro len\n",
    "df = df[df.lead < 50].reset_index(drop = True)"
   ]
  },
  {
   "cell_type": "code",
   "execution_count": 12,
   "metadata": {},
   "outputs": [],
   "source": [
    "#Bo cac thong tin khong can thiet\n",
    "df_new = df.drop(['mc_brand_name', 'mc_model_name', 'ad_id', 'list_id', 'aa_date_time', 'sold_date', 'lead'], axis = 1)\n",
    "#Bo cac ad co spending tu 40k tro len\n",
    "df_new = df_new[df_new.spending < 40000].reset_index(drop = True)\n",
    "#Dua bien gia ve thang gia tri nho hon\n",
    "df_new['price'] = df_new['price']/1000000\n",
    "#Bo cac ad co gia tu 60tr tro len\n",
    "df_new = df_new[df_new.price < 60].reset_index(drop = True)\n",
    "#Sua lai bien brand lay 5 dong xe pho bien nhat, cac dong xe con lai gop chung thanh 1 nhom 6\n",
    "df_new['brand'] = pd.Series([x if x <= 5 else 6 for x in df_new.brand])\n",
    "#Bo het cac gia tri null\n",
    "df_new = df_new.dropna().reset_index(drop = True)\n",
    "#Tao dic cac model ban nhieu nhat, giu lai cac model co hon 100 ad, cac model con lai cho vao nhom 0\n",
    "model_dict = dict(df_new.model.value_counts())\n",
    "df_new['model'] = pd.Series([x if model_dict[x] > 500 else 0 for x in df_new.model])"
   ]
  },
  {
   "cell_type": "code",
   "execution_count": 13,
   "metadata": {},
   "outputs": [
    {
     "data": {
      "text/html": [
       "<div>\n",
       "<style scoped>\n",
       "    .dataframe tbody tr th:only-of-type {\n",
       "        vertical-align: middle;\n",
       "    }\n",
       "\n",
       "    .dataframe tbody tr th {\n",
       "        vertical-align: top;\n",
       "    }\n",
       "\n",
       "    .dataframe thead th {\n",
       "        text-align: right;\n",
       "    }\n",
       "</style>\n",
       "<table border=\"1\" class=\"dataframe\">\n",
       "  <thead>\n",
       "    <tr style=\"text-align: right;\">\n",
       "      <th></th>\n",
       "      <th>subject</th>\n",
       "      <th>body</th>\n",
       "      <th>price</th>\n",
       "      <th>brand</th>\n",
       "      <th>model</th>\n",
       "      <th>duration</th>\n",
       "      <th>spending</th>\n",
       "      <th>regdate</th>\n",
       "      <th>mileage</th>\n",
       "      <th>region</th>\n",
       "      <th>mc_type</th>\n",
       "      <th>mc_capacity</th>\n",
       "    </tr>\n",
       "  </thead>\n",
       "  <tbody>\n",
       "    <tr>\n",
       "      <th>0</th>\n",
       "      <td>Honda Wave nhật bs 61 zin nguyên bản</td>\n",
       "      <td>wave nhật 2007 bs 61 máy cực chất .xe đời...</td>\n",
       "      <td>10.3</td>\n",
       "      <td>1</td>\n",
       "      <td>22</td>\n",
       "      <td>90</td>\n",
       "      <td>35000</td>\n",
       "      <td>2007</td>\n",
       "      <td>45.0</td>\n",
       "      <td>13</td>\n",
       "      <td>2.0</td>\n",
       "      <td>2.0</td>\n",
       "    </tr>\n",
       "    <tr>\n",
       "      <th>1</th>\n",
       "      <td>Future GT, đồng hồ điện tư</td>\n",
       "      <td>Xe zin ngay chủ.Ai cần liên hệ,miên tiếp tin ...</td>\n",
       "      <td>22.0</td>\n",
       "      <td>2</td>\n",
       "      <td>0</td>\n",
       "      <td>1</td>\n",
       "      <td>0</td>\n",
       "      <td>2017</td>\n",
       "      <td>800000.0</td>\n",
       "      <td>2</td>\n",
       "      <td>1.0</td>\n",
       "      <td>3.0</td>\n",
       "    </tr>\n",
       "    <tr>\n",
       "      <th>2</th>\n",
       "      <td>Exciter Rc 150 Trắng đỏ xe đẹp chính chủ</td>\n",
       "      <td>Gia đình đổi xe nên cần bán hay giao lưu xe kh...</td>\n",
       "      <td>34.5</td>\n",
       "      <td>2</td>\n",
       "      <td>25</td>\n",
       "      <td>13</td>\n",
       "      <td>35000</td>\n",
       "      <td>2015</td>\n",
       "      <td>17000.0</td>\n",
       "      <td>13</td>\n",
       "      <td>3.0</td>\n",
       "      <td>6.0</td>\n",
       "    </tr>\n",
       "    <tr>\n",
       "      <th>3</th>\n",
       "      <td>cần tiền gấp ra đi em ex 2018 chính chủ,biển s...</td>\n",
       "      <td>cần tiền nênh ra đi con xe còn mới.zin từ tron...</td>\n",
       "      <td>37.0</td>\n",
       "      <td>2</td>\n",
       "      <td>25</td>\n",
       "      <td>524</td>\n",
       "      <td>0</td>\n",
       "      <td>2018</td>\n",
       "      <td>9000.0</td>\n",
       "      <td>13</td>\n",
       "      <td>3.0</td>\n",
       "      <td>3.0</td>\n",
       "    </tr>\n",
       "    <tr>\n",
       "      <th>4</th>\n",
       "      <td>Cần tiền bán gấp</td>\n",
       "      <td>xe mới mua hồi qua tết 2018 càn tiền bán gấp g...</td>\n",
       "      <td>16.0</td>\n",
       "      <td>2</td>\n",
       "      <td>27</td>\n",
       "      <td>954</td>\n",
       "      <td>0</td>\n",
       "      <td>2018</td>\n",
       "      <td>30000.0</td>\n",
       "      <td>10</td>\n",
       "      <td>2.0</td>\n",
       "      <td>3.0</td>\n",
       "    </tr>\n",
       "  </tbody>\n",
       "</table>\n",
       "</div>"
      ],
      "text/plain": [
       "                                             subject  \\\n",
       "0             Honda Wave nhật bs 61 zin nguyên bản   \n",
       "1                         Future GT, đồng hồ điện tư   \n",
       "2           Exciter Rc 150 Trắng đỏ xe đẹp chính chủ   \n",
       "3  cần tiền gấp ra đi em ex 2018 chính chủ,biển s...   \n",
       "4                                   Cần tiền bán gấp   \n",
       "\n",
       "                                                body  price  brand  model  \\\n",
       "0  wave nhật 2007 bs 61 máy cực chất .xe đời...   10.3      1     22   \n",
       "1  Xe zin ngay chủ.Ai cần liên hệ,miên tiếp tin ...   22.0      2      0   \n",
       "2  Gia đình đổi xe nên cần bán hay giao lưu xe kh...   34.5      2     25   \n",
       "3  cần tiền nênh ra đi con xe còn mới.zin từ tron...   37.0      2     25   \n",
       "4  xe mới mua hồi qua tết 2018 càn tiền bán gấp g...   16.0      2     27   \n",
       "\n",
       "   duration  spending  regdate   mileage  region  mc_type  mc_capacity  \n",
       "0        90     35000     2007      45.0      13      2.0          2.0  \n",
       "1         1         0     2017  800000.0       2      1.0          3.0  \n",
       "2        13     35000     2015   17000.0      13      3.0          6.0  \n",
       "3       524         0     2018    9000.0      13      3.0          3.0  \n",
       "4       954         0     2018   30000.0      10      2.0          3.0  "
      ]
     },
     "execution_count": 13,
     "metadata": {},
     "output_type": "execute_result"
    }
   ],
   "source": [
    "df_new.head()"
   ]
  },
  {
   "cell_type": "code",
   "execution_count": 14,
   "metadata": {},
   "outputs": [
    {
     "data": {
      "text/html": [
       "<div>\n",
       "<style scoped>\n",
       "    .dataframe tbody tr th:only-of-type {\n",
       "        vertical-align: middle;\n",
       "    }\n",
       "\n",
       "    .dataframe tbody tr th {\n",
       "        vertical-align: top;\n",
       "    }\n",
       "\n",
       "    .dataframe thead th {\n",
       "        text-align: right;\n",
       "    }\n",
       "</style>\n",
       "<table border=\"1\" class=\"dataframe\">\n",
       "  <thead>\n",
       "    <tr style=\"text-align: right;\">\n",
       "      <th></th>\n",
       "      <th>subject</th>\n",
       "      <th>body</th>\n",
       "      <th>price</th>\n",
       "      <th>brand</th>\n",
       "      <th>model</th>\n",
       "      <th>duration</th>\n",
       "      <th>spending</th>\n",
       "      <th>regdate</th>\n",
       "      <th>mileage</th>\n",
       "      <th>region</th>\n",
       "      <th>mc_type</th>\n",
       "      <th>mc_capacity</th>\n",
       "    </tr>\n",
       "  </thead>\n",
       "  <tbody>\n",
       "    <tr>\n",
       "      <th>count</th>\n",
       "      <td>32564</td>\n",
       "      <td>32564</td>\n",
       "      <td>32564.0</td>\n",
       "      <td>32564</td>\n",
       "      <td>32564</td>\n",
       "      <td>32564</td>\n",
       "      <td>32564</td>\n",
       "      <td>32564</td>\n",
       "      <td>32564.0</td>\n",
       "      <td>32564</td>\n",
       "      <td>32564.0</td>\n",
       "      <td>32564.0</td>\n",
       "    </tr>\n",
       "    <tr>\n",
       "      <th>unique</th>\n",
       "      <td>28385</td>\n",
       "      <td>32149</td>\n",
       "      <td>937.0</td>\n",
       "      <td>6</td>\n",
       "      <td>16</td>\n",
       "      <td>1365</td>\n",
       "      <td>11</td>\n",
       "      <td>40</td>\n",
       "      <td>3822.0</td>\n",
       "      <td>13</td>\n",
       "      <td>3.0</td>\n",
       "      <td>6.0</td>\n",
       "    </tr>\n",
       "    <tr>\n",
       "      <th>top</th>\n",
       "      <td>Honda Wave</td>\n",
       "      <td>xe nhà đang đi nay muốn bán xe nhà đi cẩn thận...</td>\n",
       "      <td>10.0</td>\n",
       "      <td>1</td>\n",
       "      <td>0</td>\n",
       "      <td>1</td>\n",
       "      <td>0</td>\n",
       "      <td>2010</td>\n",
       "      <td>20000.0</td>\n",
       "      <td>13</td>\n",
       "      <td>2.0</td>\n",
       "      <td>3.0</td>\n",
       "    </tr>\n",
       "    <tr>\n",
       "      <th>freq</th>\n",
       "      <td>185</td>\n",
       "      <td>54</td>\n",
       "      <td>654.0</td>\n",
       "      <td>16428</td>\n",
       "      <td>8931</td>\n",
       "      <td>2001</td>\n",
       "      <td>23939</td>\n",
       "      <td>3288</td>\n",
       "      <td>1773.0</td>\n",
       "      <td>15880</td>\n",
       "      <td>16635.0</td>\n",
       "      <td>21182.0</td>\n",
       "    </tr>\n",
       "  </tbody>\n",
       "</table>\n",
       "</div>"
      ],
      "text/plain": [
       "           subject                                               body  \\\n",
       "count        32564                                              32564   \n",
       "unique       28385                                              32149   \n",
       "top     Honda Wave  xe nhà đang đi nay muốn bán xe nhà đi cẩn thận...   \n",
       "freq           185                                                 54   \n",
       "\n",
       "          price  brand  model  duration  spending  regdate  mileage  region  \\\n",
       "count   32564.0  32564  32564     32564     32564    32564  32564.0   32564   \n",
       "unique    937.0      6     16      1365        11       40   3822.0      13   \n",
       "top        10.0      1      0         1         0     2010  20000.0      13   \n",
       "freq      654.0  16428   8931      2001     23939     3288   1773.0   15880   \n",
       "\n",
       "        mc_type  mc_capacity  \n",
       "count   32564.0      32564.0  \n",
       "unique      3.0          6.0  \n",
       "top         2.0          3.0  \n",
       "freq    16635.0      21182.0  "
      ]
     },
     "execution_count": 14,
     "metadata": {},
     "output_type": "execute_result"
    }
   ],
   "source": [
    "df_new.astype('object').describe()"
   ]
  },
  {
   "cell_type": "code",
   "execution_count": 15,
   "metadata": {},
   "outputs": [],
   "source": [
    "#x = df_new.lead\n",
    "#3IQR = x.quantile(0.75) - x.quantile(0.25)\n",
    "#(x.quantile(0.25) - 1.5*IQR, 1.5*IQR + x.quantile(0.75))"
   ]
  },
  {
   "cell_type": "code",
   "execution_count": 16,
   "metadata": {},
   "outputs": [],
   "source": [
    "#categorize duration\n",
    "def cate_duration(x):\n",
    "    if x >= 0 and x <= 12:\n",
    "        value = '00_0.5_ngay'\n",
    "    elif x > 12 and x <= 48:\n",
    "        value = '01_02_ngay'\n",
    "    elif x > 48 and x <= 168:\n",
    "        value = '03_07_ngay'\n",
    "    else:\n",
    "        value = 'hon_1_tuan'\n",
    "    return(value)\n",
    "#categorize spending\n",
    "def cate_spending(x):\n",
    "    if x == 0:\n",
    "        value = '00'\n",
    "    elif x <= 20000:\n",
    "        value = '20k'\n",
    "    else:\n",
    "        value = '40k'\n",
    "    return(value)\n",
    "#categorize mileage\n",
    "def cate_mileage(x):\n",
    "    if x >= 0 and x <= 5000 :\n",
    "        value = '05k'\n",
    "    elif x > 5000 and x <= 15000:\n",
    "        value = '05k_15k'\n",
    "    elif x > 15000 and x <= 30000:\n",
    "        value = '15k_30k'\n",
    "    elif x > 30000 and x <= 60000:\n",
    "        value = '30k_60k'\n",
    "    elif x > 60000:\n",
    "        value = '60k'\n",
    "    else:\n",
    "        value = 'None'\n",
    "    return value"
   ]
  },
  {
   "cell_type": "code",
   "execution_count": 17,
   "metadata": {},
   "outputs": [],
   "source": [
    "df_new['duration'] = df_new.duration.apply(lambda x: cate_duration(x))\n",
    "df_new['spending'] = df_new.spending.apply(lambda x: cate_spending(x))\n",
    "df_new['mileage'] = df_new.mileage.apply(lambda x: cate_mileage(x))\n",
    "df_new['regdate'] = df_new['regdate'].astype('str')"
   ]
  },
  {
   "cell_type": "code",
   "execution_count": 18,
   "metadata": {},
   "outputs": [
    {
     "data": {
      "text/html": [
       "<div>\n",
       "<style scoped>\n",
       "    .dataframe tbody tr th:only-of-type {\n",
       "        vertical-align: middle;\n",
       "    }\n",
       "\n",
       "    .dataframe tbody tr th {\n",
       "        vertical-align: top;\n",
       "    }\n",
       "\n",
       "    .dataframe thead th {\n",
       "        text-align: right;\n",
       "    }\n",
       "</style>\n",
       "<table border=\"1\" class=\"dataframe\">\n",
       "  <thead>\n",
       "    <tr style=\"text-align: right;\">\n",
       "      <th></th>\n",
       "      <th>subject</th>\n",
       "      <th>body</th>\n",
       "      <th>price</th>\n",
       "      <th>brand</th>\n",
       "      <th>model</th>\n",
       "      <th>duration</th>\n",
       "      <th>spending</th>\n",
       "      <th>regdate</th>\n",
       "      <th>mileage</th>\n",
       "      <th>region</th>\n",
       "      <th>mc_type</th>\n",
       "      <th>mc_capacity</th>\n",
       "    </tr>\n",
       "  </thead>\n",
       "  <tbody>\n",
       "    <tr>\n",
       "      <th>0</th>\n",
       "      <td>Honda Wave nhật bs 61 zin nguyên bản</td>\n",
       "      <td>wave nhật 2007 bs 61 máy cực chất .xe đời...</td>\n",
       "      <td>10.3</td>\n",
       "      <td>1</td>\n",
       "      <td>22</td>\n",
       "      <td>03_07_ngay</td>\n",
       "      <td>40k</td>\n",
       "      <td>2007</td>\n",
       "      <td>05k</td>\n",
       "      <td>13</td>\n",
       "      <td>2.0</td>\n",
       "      <td>2.0</td>\n",
       "    </tr>\n",
       "    <tr>\n",
       "      <th>1</th>\n",
       "      <td>Future GT, đồng hồ điện tư</td>\n",
       "      <td>Xe zin ngay chủ.Ai cần liên hệ,miên tiếp tin ...</td>\n",
       "      <td>22.0</td>\n",
       "      <td>2</td>\n",
       "      <td>0</td>\n",
       "      <td>00_0.5_ngay</td>\n",
       "      <td>00</td>\n",
       "      <td>2017</td>\n",
       "      <td>60k</td>\n",
       "      <td>2</td>\n",
       "      <td>1.0</td>\n",
       "      <td>3.0</td>\n",
       "    </tr>\n",
       "    <tr>\n",
       "      <th>2</th>\n",
       "      <td>Exciter Rc 150 Trắng đỏ xe đẹp chính chủ</td>\n",
       "      <td>Gia đình đổi xe nên cần bán hay giao lưu xe kh...</td>\n",
       "      <td>34.5</td>\n",
       "      <td>2</td>\n",
       "      <td>25</td>\n",
       "      <td>01_02_ngay</td>\n",
       "      <td>40k</td>\n",
       "      <td>2015</td>\n",
       "      <td>15k_30k</td>\n",
       "      <td>13</td>\n",
       "      <td>3.0</td>\n",
       "      <td>6.0</td>\n",
       "    </tr>\n",
       "    <tr>\n",
       "      <th>3</th>\n",
       "      <td>cần tiền gấp ra đi em ex 2018 chính chủ,biển s...</td>\n",
       "      <td>cần tiền nênh ra đi con xe còn mới.zin từ tron...</td>\n",
       "      <td>37.0</td>\n",
       "      <td>2</td>\n",
       "      <td>25</td>\n",
       "      <td>hon_1_tuan</td>\n",
       "      <td>00</td>\n",
       "      <td>2018</td>\n",
       "      <td>05k_15k</td>\n",
       "      <td>13</td>\n",
       "      <td>3.0</td>\n",
       "      <td>3.0</td>\n",
       "    </tr>\n",
       "    <tr>\n",
       "      <th>4</th>\n",
       "      <td>Cần tiền bán gấp</td>\n",
       "      <td>xe mới mua hồi qua tết 2018 càn tiền bán gấp g...</td>\n",
       "      <td>16.0</td>\n",
       "      <td>2</td>\n",
       "      <td>27</td>\n",
       "      <td>hon_1_tuan</td>\n",
       "      <td>00</td>\n",
       "      <td>2018</td>\n",
       "      <td>15k_30k</td>\n",
       "      <td>10</td>\n",
       "      <td>2.0</td>\n",
       "      <td>3.0</td>\n",
       "    </tr>\n",
       "  </tbody>\n",
       "</table>\n",
       "</div>"
      ],
      "text/plain": [
       "                                             subject  \\\n",
       "0             Honda Wave nhật bs 61 zin nguyên bản   \n",
       "1                         Future GT, đồng hồ điện tư   \n",
       "2           Exciter Rc 150 Trắng đỏ xe đẹp chính chủ   \n",
       "3  cần tiền gấp ra đi em ex 2018 chính chủ,biển s...   \n",
       "4                                   Cần tiền bán gấp   \n",
       "\n",
       "                                                body  price  brand  model  \\\n",
       "0  wave nhật 2007 bs 61 máy cực chất .xe đời...   10.3      1     22   \n",
       "1  Xe zin ngay chủ.Ai cần liên hệ,miên tiếp tin ...   22.0      2      0   \n",
       "2  Gia đình đổi xe nên cần bán hay giao lưu xe kh...   34.5      2     25   \n",
       "3  cần tiền nênh ra đi con xe còn mới.zin từ tron...   37.0      2     25   \n",
       "4  xe mới mua hồi qua tết 2018 càn tiền bán gấp g...   16.0      2     27   \n",
       "\n",
       "      duration spending regdate  mileage  region  mc_type  mc_capacity  \n",
       "0   03_07_ngay      40k    2007      05k      13      2.0          2.0  \n",
       "1  00_0.5_ngay       00    2017      60k       2      1.0          3.0  \n",
       "2   01_02_ngay      40k    2015  15k_30k      13      3.0          6.0  \n",
       "3   hon_1_tuan       00    2018  05k_15k      13      3.0          3.0  \n",
       "4   hon_1_tuan       00    2018  15k_30k      10      2.0          3.0  "
      ]
     },
     "execution_count": 18,
     "metadata": {},
     "output_type": "execute_result"
    }
   ],
   "source": [
    "df_new.head()"
   ]
  },
  {
   "cell_type": "code",
   "execution_count": 19,
   "metadata": {},
   "outputs": [
    {
     "data": {
      "text/html": [
       "<div>\n",
       "<style scoped>\n",
       "    .dataframe tbody tr th:only-of-type {\n",
       "        vertical-align: middle;\n",
       "    }\n",
       "\n",
       "    .dataframe tbody tr th {\n",
       "        vertical-align: top;\n",
       "    }\n",
       "\n",
       "    .dataframe thead th {\n",
       "        text-align: right;\n",
       "    }\n",
       "</style>\n",
       "<table border=\"1\" class=\"dataframe\">\n",
       "  <thead>\n",
       "    <tr style=\"text-align: right;\">\n",
       "      <th></th>\n",
       "      <th>subject</th>\n",
       "      <th>body</th>\n",
       "      <th>price</th>\n",
       "      <th>brand</th>\n",
       "      <th>model</th>\n",
       "      <th>duration</th>\n",
       "      <th>spending</th>\n",
       "      <th>regdate</th>\n",
       "      <th>mileage</th>\n",
       "      <th>region</th>\n",
       "      <th>mc_type</th>\n",
       "      <th>mc_capacity</th>\n",
       "    </tr>\n",
       "  </thead>\n",
       "  <tbody>\n",
       "    <tr>\n",
       "      <th>0</th>\n",
       "      <td>Honda Wave nhật bs 61 zin nguyên bản</td>\n",
       "      <td>wave nhật 2007 bs 61 máy cực chất .xe đời...</td>\n",
       "      <td>10.3</td>\n",
       "      <td>1</td>\n",
       "      <td>22</td>\n",
       "      <td>0</td>\n",
       "      <td>40k</td>\n",
       "      <td>2007</td>\n",
       "      <td>05k</td>\n",
       "      <td>13</td>\n",
       "      <td>2.0</td>\n",
       "      <td>2.0</td>\n",
       "    </tr>\n",
       "    <tr>\n",
       "      <th>1</th>\n",
       "      <td>Future GT, đồng hồ điện tư</td>\n",
       "      <td>Xe zin ngay chủ.Ai cần liên hệ,miên tiếp tin ...</td>\n",
       "      <td>22.0</td>\n",
       "      <td>2</td>\n",
       "      <td>0</td>\n",
       "      <td>1</td>\n",
       "      <td>00</td>\n",
       "      <td>2017</td>\n",
       "      <td>60k</td>\n",
       "      <td>2</td>\n",
       "      <td>1.0</td>\n",
       "      <td>3.0</td>\n",
       "    </tr>\n",
       "    <tr>\n",
       "      <th>2</th>\n",
       "      <td>Exciter Rc 150 Trắng đỏ xe đẹp chính chủ</td>\n",
       "      <td>Gia đình đổi xe nên cần bán hay giao lưu xe kh...</td>\n",
       "      <td>34.5</td>\n",
       "      <td>2</td>\n",
       "      <td>25</td>\n",
       "      <td>0</td>\n",
       "      <td>40k</td>\n",
       "      <td>2015</td>\n",
       "      <td>15k_30k</td>\n",
       "      <td>13</td>\n",
       "      <td>3.0</td>\n",
       "      <td>6.0</td>\n",
       "    </tr>\n",
       "    <tr>\n",
       "      <th>3</th>\n",
       "      <td>cần tiền gấp ra đi em ex 2018 chính chủ,biển s...</td>\n",
       "      <td>cần tiền nênh ra đi con xe còn mới.zin từ tron...</td>\n",
       "      <td>37.0</td>\n",
       "      <td>2</td>\n",
       "      <td>25</td>\n",
       "      <td>0</td>\n",
       "      <td>00</td>\n",
       "      <td>2018</td>\n",
       "      <td>05k_15k</td>\n",
       "      <td>13</td>\n",
       "      <td>3.0</td>\n",
       "      <td>3.0</td>\n",
       "    </tr>\n",
       "    <tr>\n",
       "      <th>4</th>\n",
       "      <td>Cần tiền bán gấp</td>\n",
       "      <td>xe mới mua hồi qua tết 2018 càn tiền bán gấp g...</td>\n",
       "      <td>16.0</td>\n",
       "      <td>2</td>\n",
       "      <td>27</td>\n",
       "      <td>0</td>\n",
       "      <td>00</td>\n",
       "      <td>2018</td>\n",
       "      <td>15k_30k</td>\n",
       "      <td>10</td>\n",
       "      <td>2.0</td>\n",
       "      <td>3.0</td>\n",
       "    </tr>\n",
       "  </tbody>\n",
       "</table>\n",
       "</div>"
      ],
      "text/plain": [
       "                                             subject  \\\n",
       "0             Honda Wave nhật bs 61 zin nguyên bản   \n",
       "1                         Future GT, đồng hồ điện tư   \n",
       "2           Exciter Rc 150 Trắng đỏ xe đẹp chính chủ   \n",
       "3  cần tiền gấp ra đi em ex 2018 chính chủ,biển s...   \n",
       "4                                   Cần tiền bán gấp   \n",
       "\n",
       "                                                body  price  brand  model  \\\n",
       "0  wave nhật 2007 bs 61 máy cực chất .xe đời...   10.3      1     22   \n",
       "1  Xe zin ngay chủ.Ai cần liên hệ,miên tiếp tin ...   22.0      2      0   \n",
       "2  Gia đình đổi xe nên cần bán hay giao lưu xe kh...   34.5      2     25   \n",
       "3  cần tiền nênh ra đi con xe còn mới.zin từ tron...   37.0      2     25   \n",
       "4  xe mới mua hồi qua tết 2018 càn tiền bán gấp g...   16.0      2     27   \n",
       "\n",
       "   duration spending regdate  mileage  region  mc_type  mc_capacity  \n",
       "0         0      40k    2007      05k      13      2.0          2.0  \n",
       "1         1       00    2017      60k       2      1.0          3.0  \n",
       "2         0      40k    2015  15k_30k      13      3.0          6.0  \n",
       "3         0       00    2018  05k_15k      13      3.0          3.0  \n",
       "4         0       00    2018  15k_30k      10      2.0          3.0  "
      ]
     },
     "execution_count": 19,
     "metadata": {},
     "output_type": "execute_result"
    }
   ],
   "source": [
    "#label ouput, 1: ban trong nua ngay, 0: ban tu 1 ngay tro len\n",
    "df_new['duration'] = pd.Series([1 if x == '00_0.5_ngay' else 0 for x in df_new.duration])\n",
    "df_new.head()"
   ]
  },
  {
   "cell_type": "code",
   "execution_count": 20,
   "metadata": {},
   "outputs": [],
   "source": [
    "#df_new.to_csv('final_preprocess.csv')"
   ]
  },
  {
   "cell_type": "code",
   "execution_count": 21,
   "metadata": {},
   "outputs": [],
   "source": [
    "#def remove(text):\n",
    " #   rm0 = str(text).lower()\n",
    "  #  rm1 = re.sub('[0-9]', '', str(rm0))\n",
    "   # rm2 = re.sub('[!@#$%\\.\\-\\+//():]', '', str(rm1))\n",
    "    #rm3 = ud.word_tokenize(str(rm2), format='text')\n",
    "    #return rm3"
   ]
  },
  {
   "cell_type": "code",
   "execution_count": 22,
   "metadata": {},
   "outputs": [],
   "source": [
    "#df_new['subject'] = df_new.subject.apply(remove)\n",
    "#df_new['body'] = df_new.body.apply(remove)\n",
    "#stopwords['word'] = stopwords.word.apply(remove)\n",
    "#stopwords = stopwords.word.values.tolist()\n",
    "#df_1['mc_model_name'] = df_1.mc_model_name.apply(remove_space)"
   ]
  },
  {
   "cell_type": "code",
   "execution_count": 23,
   "metadata": {},
   "outputs": [],
   "source": [
    "#stopwords"
   ]
  },
  {
   "cell_type": "code",
   "execution_count": 24,
   "metadata": {},
   "outputs": [],
   "source": [
    "X = df_new.drop('duration', axis = 1)\n",
    "y = df_new['duration']"
   ]
  },
  {
   "cell_type": "code",
   "execution_count": 25,
   "metadata": {},
   "outputs": [],
   "source": [
    "def prepare(X, y, test_size = 0.2, new_case = False, X_new = None):\n",
    "    from sklearn.feature_extraction.text import TfidfVectorizer\n",
    "    from sklearn.model_selection import train_test_split\n",
    "    from sklearn.preprocessing import OneHotEncoder\n",
    "    \n",
    "    X_train, X_test, y_train, y_test = train_test_split(X, y, test_size = test_size, random_state = 42)\n",
    "    \n",
    "    #tfidf_body = TfidfVectorizer(max_features=1000).fit(X_train.body)\n",
    "    #tfidf_subject = TfidfVectorizer(max_features=5000).fit(X_train.subject)\n",
    "    onehot_brand = OneHotEncoder().fit(X_train.brand.values.reshape(-1,1))\n",
    "    onehot_model = OneHotEncoder().fit(X_train.model.values.reshape(-1,1))\n",
    "    onehot_spending = OneHotEncoder().fit(X_train.spending.values.reshape(-1,1))\n",
    "    onehot_regdate = OneHotEncoder().fit(X_train.regdate.values.reshape(-1,1))\n",
    "    onehot_mileage = OneHotEncoder().fit(X_train.mileage.values.reshape(-1,1))\n",
    "    onehot_region =  OneHotEncoder().fit(X_train.region.values.reshape(-1,1))\n",
    "    onehot_mctype =  OneHotEncoder().fit(X_train.mc_type.values.reshape(-1,1))\n",
    "    onehot_mccapa =  OneHotEncoder().fit(X_train.mc_capacity.values.reshape(-1,1))\n",
    "    \n",
    "\n",
    "    #Convert\n",
    "    if new_case == False:\n",
    "        #X_train_body = tfidf_subject.transform(X_train.body).toarray()\n",
    "        #X_test_body = tfidf_subject.transform(X_test.body).toarray()\n",
    "        \n",
    "        #X_train_subject = tfidf_subject.transform(X_train.subject).toarray()\n",
    "        #X_test_subject = tfidf_subject.transform(X_test.subject).toarray()\n",
    "\n",
    "        X_train_brand = onehot_brand.transform(X_train.brand.values.reshape(-1,1)).toarray()\n",
    "        X_test_brand = onehot_brand.transform(X_test.brand.values.reshape(-1,1)).toarray()\n",
    "\n",
    "        X_train_model = onehot_model.transform(X_train.model.values.reshape(-1,1)).toarray()\n",
    "        X_test_model = onehot_model.transform(X_test.model.values.reshape(-1,1)).toarray()\n",
    "        \n",
    "        X_train_spending = onehot_spending.transform(X_train.spending.values.reshape(-1,1)).toarray()\n",
    "        X_test_spending = onehot_spending.transform(X_test.spending.values.reshape(-1,1)).toarray()\n",
    "        \n",
    "        X_train_regdate = onehot_regdate.transform(X_train.regdate.values.reshape(-1,1)).toarray()\n",
    "        X_test_regdate = onehot_regdate.transform(X_test.regdate.values.reshape(-1,1)).toarray()\n",
    "        \n",
    "        X_train_mileage = onehot_mileage.transform(X_train.mileage.values.reshape(-1,1)).toarray()\n",
    "        X_test_mileage = onehot_mileage.transform(X_test.mileage.values.reshape(-1,1)).toarray()\n",
    "        \n",
    "        X_train_region = onehot_region.transform(X_train.region.values.reshape(-1,1)).toarray()\n",
    "        X_test_region = onehot_region.transform(X_test.region.values.reshape(-1,1)).toarray()\n",
    "        \n",
    "        X_train_mctype = onehot_mctype.transform(X_train.mc_type.values.reshape(-1,1)).toarray()\n",
    "        X_test_mctype = onehot_mctype.transform(X_test.mc_type.values.reshape(-1,1)).toarray()\n",
    "        \n",
    "        X_train_mccapa = onehot_mccapa.transform(X_train.mc_capacity.values.reshape(-1,1)).toarray()\n",
    "        X_test_mccapa = onehot_mccapa.transform(X_test.mc_capacity.values.reshape(-1,1)).toarray()\n",
    "        \n",
    "\n",
    "        \n",
    "        X_train_full = np.concatenate([X_train_mileage,X_train_brand, X_train_model, X_train_spending, X_train_regdate, X_train_region, X_train_mctype, X_train_mccapa], axis = 1)\n",
    "        X_test_full = np.concatenate([X_test_mileage,X_test_brand, X_test_model, X_test_spending, X_test_regdate, X_test_region, X_test_mctype, X_test_mccapa], axis = 1)\n",
    "        \n",
    "        #X_train_full = np.concatenate([X_train_body,X_train_subject,X_train_brand, X_train_model, X_train_spending, X_train_regdate, X_train_region, X_train_mctype, X_train_mccapa], axis = 1)\n",
    "        #X_test_full = np.concatenate([X_test_body,X_test_subject,X_test_brand, X_test_model, X_test_spending, X_test_regdate, X_test_region, X_test_mctype, X_test_mccapa], axis = 1)\n",
    "        y_train_full = y_train\n",
    "        y_test_full = y_test\n",
    "\n",
    "        return (X_train_full, X_test_full, y_train_full, y_test_full)"
   ]
  },
  {
   "cell_type": "code",
   "execution_count": 26,
   "metadata": {},
   "outputs": [
    {
     "name": "stderr",
     "output_type": "stream",
     "text": [
      "/anaconda3/lib/python3.7/site-packages/sklearn/preprocessing/_encoders.py:368: FutureWarning: The handling of integer data will change in version 0.22. Currently, the categories are determined based on the range [0, max(values)], while in the future they will be determined based on the unique values.\n",
      "If you want the future behaviour and silence this warning, you can specify \"categories='auto'\".\n",
      "In case you used a LabelEncoder before this OneHotEncoder to convert the categories to integers, then you can now use the OneHotEncoder directly.\n",
      "  warnings.warn(msg, FutureWarning)\n",
      "/anaconda3/lib/python3.7/site-packages/sklearn/preprocessing/_encoders.py:368: FutureWarning: The handling of integer data will change in version 0.22. Currently, the categories are determined based on the range [0, max(values)], while in the future they will be determined based on the unique values.\n",
      "If you want the future behaviour and silence this warning, you can specify \"categories='auto'\".\n",
      "In case you used a LabelEncoder before this OneHotEncoder to convert the categories to integers, then you can now use the OneHotEncoder directly.\n",
      "  warnings.warn(msg, FutureWarning)\n",
      "/anaconda3/lib/python3.7/site-packages/sklearn/preprocessing/_encoders.py:368: FutureWarning: The handling of integer data will change in version 0.22. Currently, the categories are determined based on the range [0, max(values)], while in the future they will be determined based on the unique values.\n",
      "If you want the future behaviour and silence this warning, you can specify \"categories='auto'\".\n",
      "In case you used a LabelEncoder before this OneHotEncoder to convert the categories to integers, then you can now use the OneHotEncoder directly.\n",
      "  warnings.warn(msg, FutureWarning)\n",
      "/anaconda3/lib/python3.7/site-packages/sklearn/preprocessing/_encoders.py:368: FutureWarning: The handling of integer data will change in version 0.22. Currently, the categories are determined based on the range [0, max(values)], while in the future they will be determined based on the unique values.\n",
      "If you want the future behaviour and silence this warning, you can specify \"categories='auto'\".\n",
      "In case you used a LabelEncoder before this OneHotEncoder to convert the categories to integers, then you can now use the OneHotEncoder directly.\n",
      "  warnings.warn(msg, FutureWarning)\n",
      "/anaconda3/lib/python3.7/site-packages/sklearn/preprocessing/_encoders.py:368: FutureWarning: The handling of integer data will change in version 0.22. Currently, the categories are determined based on the range [0, max(values)], while in the future they will be determined based on the unique values.\n",
      "If you want the future behaviour and silence this warning, you can specify \"categories='auto'\".\n",
      "In case you used a LabelEncoder before this OneHotEncoder to convert the categories to integers, then you can now use the OneHotEncoder directly.\n",
      "  warnings.warn(msg, FutureWarning)\n",
      "/anaconda3/lib/python3.7/site-packages/sklearn/preprocessing/_encoders.py:368: FutureWarning: The handling of integer data will change in version 0.22. Currently, the categories are determined based on the range [0, max(values)], while in the future they will be determined based on the unique values.\n",
      "If you want the future behaviour and silence this warning, you can specify \"categories='auto'\".\n",
      "In case you used a LabelEncoder before this OneHotEncoder to convert the categories to integers, then you can now use the OneHotEncoder directly.\n",
      "  warnings.warn(msg, FutureWarning)\n"
     ]
    }
   ],
   "source": [
    "X_train, X_test, y_train, y_test = prepare(X,y)"
   ]
  },
  {
   "cell_type": "code",
   "execution_count": 27,
   "metadata": {},
   "outputs": [
    {
     "name": "stderr",
     "output_type": "stream",
     "text": [
      "/anaconda3/lib/python3.7/site-packages/sklearn/linear_model/logistic.py:433: FutureWarning: Default solver will be changed to 'lbfgs' in 0.22. Specify a solver to silence this warning.\n",
      "  FutureWarning)\n"
     ]
    },
    {
     "data": {
      "text/plain": [
       "0.7059726700445264"
      ]
     },
     "execution_count": 27,
     "metadata": {},
     "output_type": "execute_result"
    }
   ],
   "source": [
    "from sklearn.linear_model import LogisticRegression\n",
    "lgmod = LogisticRegression()\n",
    "lgmod.fit(X_train, y_train)\n",
    "y_pred = lgmod.predict(X_test)\n",
    "lgmod.score(X_test, y_test)"
   ]
  },
  {
   "cell_type": "code",
   "execution_count": 28,
   "metadata": {},
   "outputs": [
    {
     "data": {
      "text/plain": [
       "array([1, 0, 1, ..., 0, 0, 1])"
      ]
     },
     "execution_count": 28,
     "metadata": {},
     "output_type": "execute_result"
    }
   ],
   "source": [
    "y_pred = (1 - (lgmod.predict_proba(X_test)[:,0] > 0.63).astype('int64'))\n",
    "y_pred"
   ]
  },
  {
   "cell_type": "code",
   "execution_count": 29,
   "metadata": {},
   "outputs": [
    {
     "name": "stdout",
     "output_type": "stream",
     "text": [
      "              precision    recall  f1-score   support\n",
      "\n",
      "           0       0.76      0.76      0.76      4590\n",
      "           1       0.42      0.43      0.43      1923\n",
      "\n",
      "   micro avg       0.66      0.66      0.66      6513\n",
      "   macro avg       0.59      0.59      0.59      6513\n",
      "weighted avg       0.66      0.66      0.66      6513\n",
      "\n"
     ]
    }
   ],
   "source": [
    "from sklearn.metrics import classification_report\n",
    "print(classification_report(y_test,y_pred))"
   ]
  },
  {
   "cell_type": "code",
   "execution_count": 30,
   "metadata": {},
   "outputs": [
    {
     "name": "stdout",
     "output_type": "stream",
     "text": [
      "[[3470 1120]\n",
      " [1100  823]]\n"
     ]
    }
   ],
   "source": [
    "from sklearn.metrics import confusion_matrix\n",
    "print(confusion_matrix(y_test, y_pred))"
   ]
  },
  {
   "cell_type": "code",
   "execution_count": 31,
   "metadata": {},
   "outputs": [
    {
     "name": "stderr",
     "output_type": "stream",
     "text": [
      "/anaconda3/lib/python3.7/site-packages/sklearn/linear_model/logistic.py:433: FutureWarning: Default solver will be changed to 'lbfgs' in 0.22. Specify a solver to silence this warning.\n",
      "  FutureWarning)\n",
      "/anaconda3/lib/python3.7/site-packages/sklearn/linear_model/logistic.py:433: FutureWarning: Default solver will be changed to 'lbfgs' in 0.22. Specify a solver to silence this warning.\n",
      "  FutureWarning)\n",
      "/anaconda3/lib/python3.7/site-packages/sklearn/linear_model/logistic.py:433: FutureWarning: Default solver will be changed to 'lbfgs' in 0.22. Specify a solver to silence this warning.\n",
      "  FutureWarning)\n",
      "/anaconda3/lib/python3.7/site-packages/sklearn/linear_model/logistic.py:433: FutureWarning: Default solver will be changed to 'lbfgs' in 0.22. Specify a solver to silence this warning.\n",
      "  FutureWarning)\n",
      "/anaconda3/lib/python3.7/site-packages/sklearn/linear_model/logistic.py:433: FutureWarning: Default solver will be changed to 'lbfgs' in 0.22. Specify a solver to silence this warning.\n",
      "  FutureWarning)\n",
      "/anaconda3/lib/python3.7/site-packages/sklearn/linear_model/logistic.py:433: FutureWarning: Default solver will be changed to 'lbfgs' in 0.22. Specify a solver to silence this warning.\n",
      "  FutureWarning)\n",
      "/anaconda3/lib/python3.7/site-packages/sklearn/linear_model/logistic.py:433: FutureWarning: Default solver will be changed to 'lbfgs' in 0.22. Specify a solver to silence this warning.\n",
      "  FutureWarning)\n",
      "/anaconda3/lib/python3.7/site-packages/sklearn/linear_model/logistic.py:433: FutureWarning: Default solver will be changed to 'lbfgs' in 0.22. Specify a solver to silence this warning.\n",
      "  FutureWarning)\n",
      "/anaconda3/lib/python3.7/site-packages/sklearn/linear_model/logistic.py:433: FutureWarning: Default solver will be changed to 'lbfgs' in 0.22. Specify a solver to silence this warning.\n",
      "  FutureWarning)\n",
      "/anaconda3/lib/python3.7/site-packages/sklearn/linear_model/logistic.py:433: FutureWarning: Default solver will be changed to 'lbfgs' in 0.22. Specify a solver to silence this warning.\n",
      "  FutureWarning)\n"
     ]
    }
   ],
   "source": [
    "from sklearn.model_selection import cross_val_score\n",
    "cv_10 = cross_val_score(LogisticRegression(), X_train, y_train, cv = 10)"
   ]
  },
  {
   "cell_type": "code",
   "execution_count": 32,
   "metadata": {},
   "outputs": [
    {
     "data": {
      "text/plain": [
       "0.6955970497729292"
      ]
     },
     "execution_count": 32,
     "metadata": {},
     "output_type": "execute_result"
    }
   ],
   "source": [
    "np.mean(cv_10)"
   ]
  },
  {
   "cell_type": "code",
   "execution_count": null,
   "metadata": {},
   "outputs": [],
   "source": []
  },
  {
   "cell_type": "code",
   "execution_count": 33,
   "metadata": {},
   "outputs": [
    {
     "data": {
      "text/plain": [
       "0.7001381851681253"
      ]
     },
     "execution_count": 33,
     "metadata": {},
     "output_type": "execute_result"
    }
   ],
   "source": [
    "from sklearn.ensemble import RandomForestClassifier\n",
    "rfmod = RandomForestClassifier(n_estimators=200, max_depth=20)\n",
    "rfmod.fit(X_train, y_train)\n",
    "y_pred = rfmod.predict(X_test)\n",
    "rfmod.score(X_test, y_test)"
   ]
  },
  {
   "cell_type": "code",
   "execution_count": 34,
   "metadata": {},
   "outputs": [
    {
     "data": {
      "text/plain": [
       "array([1, 0, 0, ..., 0, 1, 1])"
      ]
     },
     "execution_count": 34,
     "metadata": {},
     "output_type": "execute_result"
    }
   ],
   "source": [
    "y_pred = (1 - (rfmod.predict_proba(X_test)[:,0] > 0.61).astype('int64'))\n",
    "y_pred"
   ]
  },
  {
   "cell_type": "code",
   "execution_count": 35,
   "metadata": {},
   "outputs": [
    {
     "name": "stdout",
     "output_type": "stream",
     "text": [
      "              precision    recall  f1-score   support\n",
      "\n",
      "           0       0.74      0.80      0.77      4590\n",
      "           1       0.41      0.33      0.37      1923\n",
      "\n",
      "   micro avg       0.66      0.66      0.66      6513\n",
      "   macro avg       0.57      0.57      0.57      6513\n",
      "weighted avg       0.64      0.66      0.65      6513\n",
      "\n"
     ]
    }
   ],
   "source": [
    "from sklearn.metrics import classification_report\n",
    "print(classification_report(y_test,y_pred))"
   ]
  },
  {
   "cell_type": "code",
   "execution_count": 36,
   "metadata": {},
   "outputs": [
    {
     "name": "stdout",
     "output_type": "stream",
     "text": [
      "[[3657  933]\n",
      " [1281  642]]\n"
     ]
    }
   ],
   "source": [
    "from sklearn.metrics import confusion_matrix\n",
    "print(confusion_matrix(y_test, y_pred))"
   ]
  },
  {
   "cell_type": "code",
   "execution_count": 37,
   "metadata": {},
   "outputs": [],
   "source": [
    "import pickle\n"
   ]
  },
  {
   "cell_type": "code",
   "execution_count": 44,
   "metadata": {},
   "outputs": [
    {
     "ename": "TypeError",
     "evalue": "an integer is required (got type _io.BufferedWriter)",
     "output_type": "error",
     "traceback": [
      "\u001b[0;31m---------------------------------------------------------------------------\u001b[0m",
      "\u001b[0;31mTypeError\u001b[0m                                 Traceback (most recent call last)",
      "\u001b[0;32m<ipython-input-44-b2d30ae85193>\u001b[0m in \u001b[0;36m<module>\u001b[0;34m\u001b[0m\n\u001b[1;32m      1\u001b[0m \u001b[0mfilename\u001b[0m \u001b[0;34m=\u001b[0m \u001b[0;34m'/Users/vietky/Desktop/src/sticky-ads/finalized_model.sav'\u001b[0m\u001b[0;34m\u001b[0m\u001b[0;34m\u001b[0m\u001b[0m\n\u001b[0;32m----> 2\u001b[0;31m \u001b[0ms\u001b[0m \u001b[0;34m=\u001b[0m \u001b[0mpickle\u001b[0m\u001b[0;34m.\u001b[0m\u001b[0mdumps\u001b[0m\u001b[0;34m(\u001b[0m\u001b[0mrfmod\u001b[0m\u001b[0;34m,\u001b[0m \u001b[0mopen\u001b[0m\u001b[0;34m(\u001b[0m\u001b[0mfilename\u001b[0m\u001b[0;34m,\u001b[0m \u001b[0;34m'wb'\u001b[0m\u001b[0;34m)\u001b[0m\u001b[0;34m)\u001b[0m\u001b[0;34m\u001b[0m\u001b[0;34m\u001b[0m\u001b[0m\n\u001b[0m",
      "\u001b[0;31mTypeError\u001b[0m: an integer is required (got type _io.BufferedWriter)"
     ]
    }
   ],
   "source": [
    "filename = './finalized_model.sav'\n",
    "s = pickle.dumps(rfmod, open(filename, 'wb'))\n"
   ]
  },
  {
   "cell_type": "code",
   "execution_count": 41,
   "metadata": {},
   "outputs": [
    {
     "name": "stderr",
     "output_type": "stream",
     "text": [
      "IOPub data rate exceeded.\n",
      "The notebook server will temporarily stop sending output\n",
      "to the client in order to avoid crashing it.\n",
      "To change this limit, set the config variable\n",
      "`--NotebookApp.iopub_data_rate_limit`.\n",
      "\n",
      "Current values:\n",
      "NotebookApp.iopub_data_rate_limit=1000000.0 (bytes/sec)\n",
      "NotebookApp.rate_limit_window=3.0 (secs)\n",
      "\n"
     ]
    }
   ],
   "source": [
    "print('hihi', s)"
   ]
  }
 ],
 "metadata": {
  "kernelspec": {
   "display_name": "Python 3",
   "language": "python",
   "name": "python3"
  },
  "language_info": {
   "codemirror_mode": {
    "name": "ipython",
    "version": 3
   },
   "file_extension": ".py",
   "mimetype": "text/x-python",
   "name": "python",
   "nbconvert_exporter": "python",
   "pygments_lexer": "ipython3",
   "version": "3.7.1"
  }
 },
 "nbformat": 4,
 "nbformat_minor": 2
}
